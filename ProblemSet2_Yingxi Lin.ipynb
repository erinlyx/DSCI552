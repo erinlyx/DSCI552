{
 "cells": [
  {
   "cell_type": "code",
   "execution_count": 1,
   "metadata": {},
   "outputs": [],
   "source": [
    "import numpy as np\n",
    "import pandas as pd\n",
    "import matplotlib.pyplot as plt\n",
    "import seaborn as sns\n",
    "from scipy import stats\n",
    "from sklearn import metrics\n",
    "from sklearn import linear_model\n",
    "from sklearn.model_selection import train_test_split\n",
    "from statsmodels.stats.outliers_influence import variance_inflation_factor\n",
    "from sklearn.preprocessing import MinMaxScaler\n",
    "from sklearn.feature_selection import RFE\n",
    "from sklearn.feature_selection import RFECV\n",
    "from sklearn.metrics import confusion_matrix"
   ]
  },
  {
   "cell_type": "code",
   "execution_count": 2,
   "metadata": {},
   "outputs": [],
   "source": [
    "# pd.read_csv('ps2_public.csv')"
   ]
  },
  {
   "cell_type": "code",
   "execution_count": 3,
   "metadata": {},
   "outputs": [],
   "source": [
    "df = pd.read_csv('ps2_public.csv')"
   ]
  },
  {
   "cell_type": "code",
   "execution_count": 4,
   "metadata": {},
   "outputs": [
    {
     "data": {
      "text/plain": [
       "treatment            0\n",
       "age                  0\n",
       "blood_pressure       0\n",
       "gender               0\n",
       "blood_test           0\n",
       "family_history    2607\n",
       "TestA                0\n",
       "TestB                0\n",
       "GeneC                0\n",
       "GeneD                0\n",
       "GeneE                0\n",
       "GeneF                0\n",
       "dtype: int64"
      ]
     },
     "execution_count": 4,
     "metadata": {},
     "output_type": "execute_result"
    }
   ],
   "source": [
    "df.isnull().sum() #To check for missing value"
   ]
  },
  {
   "cell_type": "code",
   "execution_count": 5,
   "metadata": {},
   "outputs": [
    {
     "data": {
      "text/plain": [
       "False    4824\n",
       "True       69\n",
       "Name: family_history, dtype: int64"
      ]
     },
     "execution_count": 5,
     "metadata": {},
     "output_type": "execute_result"
    }
   ],
   "source": [
    "# check values for 'family_history'column\n",
    "df['family_history'].value_counts()"
   ]
  },
  {
   "cell_type": "code",
   "execution_count": null,
   "metadata": {},
   "outputs": [],
   "source": []
  },
  {
   "cell_type": "code",
   "execution_count": 6,
   "metadata": {},
   "outputs": [],
   "source": [
    "# EDA"
   ]
  },
  {
   "cell_type": "code",
   "execution_count": 7,
   "metadata": {
    "scrolled": true
   },
   "outputs": [
    {
     "data": {
      "image/png": "[encoded data removed]",
      "text/plain": [
       "<Figure size 1080x288 with 4 Axes>"
      ]
     },
     "metadata": {
      "needs_background": "light"
     },
     "output_type": "display_data"
    }
   ],
   "source": [
    "# inspect data for potential outliers\n",
    "plt.figure(figsize=(15,4))\n",
    "\n",
    "plt.subplot(1,4,1)\n",
    "plt.title('Age Spread')\n",
    "sns.boxplot(y=df.age)\n",
    "\n",
    "plt.subplot(1,4,2)\n",
    "plt.title('Blood Pressure Spread')\n",
    "sns.boxplot(y=df.blood_pressure)\n",
    "\n",
    "plt.subplot(1,4,3)\n",
    "plt.title('TestA Spread')\n",
    "sns.boxplot(y=df.TestA)\n",
    "\n",
    "plt.subplot(1,4,4)\n",
    "plt.title('TestB Spread')\n",
    "sns.boxplot(y=df.TestB)\n",
    "\n",
    "plt.show()"
   ]
  },
  {
   "cell_type": "code",
   "execution_count": 8,
   "metadata": {},
   "outputs": [
    {
     "data": {
      "text/plain": [
       "1    4144\n",
       "0    3356\n",
       "Name: treatment, dtype: int64"
      ]
     },
     "execution_count": 8,
     "metadata": {},
     "output_type": "execute_result"
    }
   ],
   "source": [
    "df['treatment'].value_counts()"
   ]
  },
  {
   "cell_type": "code",
   "execution_count": null,
   "metadata": {},
   "outputs": [],
   "source": []
  },
  {
   "cell_type": "code",
   "execution_count": 9,
   "metadata": {},
   "outputs": [],
   "source": [
    "# EDA"
   ]
  },
  {
   "cell_type": "code",
   "execution_count": 10,
   "metadata": {
    "scrolled": true
   },
   "outputs": [
    {
     "data": {
      "text/plain": [
       "count    7500.000000\n",
       "mean       -0.000590\n",
       "std         0.171500\n",
       "min        -0.288422\n",
       "25%        -0.134452\n",
       "50%        -0.027296\n",
       "75%         0.101578\n",
       "max         0.740719\n",
       "Name: TestB, dtype: float64"
      ]
     },
     "execution_count": 10,
     "metadata": {},
     "output_type": "execute_result"
    }
   ],
   "source": [
    "# now we want to investgate TestB which is positively skewed with a lot of outliers > 0.4\n",
    "df['TestB'].describe()"
   ]
  },
  {
   "cell_type": "code",
   "execution_count": 11,
   "metadata": {},
   "outputs": [
    {
     "name": "stdout",
     "output_type": "stream",
     "text": [
      "For the entire dataset we have 4144 people(55%) treated and 3356(45%) not treated\n"
     ]
    },
    {
     "data": {
      "image/png": "[encoded data removed]",
      "text/plain": [
       "<Figure size 432x288 with 1 Axes>"
      ]
     },
     "metadata": {
      "needs_background": "light"
     },
     "output_type": "display_data"
    }
   ],
   "source": [
    "# df['treatment'].value_counts()\n",
    "print('For the entire dataset we have 4144 people(55%) treated and 3356(45%) not treated')\n",
    "ax1 = df.plot.scatter(x='TestB', y='treatment')\n",
    "# but we can see that when TestB gets higher than 0.4, we have a lot more 0 than 1"
   ]
  },
  {
   "cell_type": "code",
   "execution_count": 12,
   "metadata": {},
   "outputs": [
    {
     "name": "stdout",
     "output_type": "stream",
     "text": [
      "For TestB value over 0.456 ,the percentage of treated patients is only 0.2\n"
     ]
    }
   ],
   "source": [
    "# use the maximun threshold for TestB as a cutoff\n",
    "TestB_Q1 = df['TestB'].quantile(0.25)\n",
    "TestB_Q3 = df['TestB'].quantile(0.75)\n",
    "TestB_IQR = TestB_Q3 - TestB_Q1\n",
    "TestB_uplimit = TestB_Q3 + 1.5*TestB_IQR\n",
    "# print(TestB_uplimit)\n",
    "\n",
    "# calculate the percentage being treated above this maximum threshold\n",
    "df2 = df[['treatment','TestB']]\n",
    "df2 = df2.sort_values(by=['TestB'],ascending=False)\n",
    "df2 = df2.loc[(df2['TestB'] >= TestB_uplimit)]\n",
    "treated = df2['treatment'].sum()\n",
    "total = len(df2.index)\n",
    "Bpercent = treated/total\n",
    "print('For TestB value over',round(TestB_uplimit,3),',the percentage of treated patients is only',round(Bpercent,3))"
   ]
  },
  {
   "cell_type": "code",
   "execution_count": null,
   "metadata": {},
   "outputs": [],
   "source": []
  },
  {
   "cell_type": "code",
   "execution_count": 13,
   "metadata": {},
   "outputs": [],
   "source": [
    "# DATA CLEANING & PREPROCESSING"
   ]
  },
  {
   "cell_type": "code",
   "execution_count": 14,
   "metadata": {},
   "outputs": [],
   "source": [
    "# remove outliers for blood pressure\n",
    "# note that even though TestB is also skewed, we are not removing it yet\n",
    "def remove_outliers(df, column):\n",
    "    Q1 = df[column].quantile(0.25)\n",
    "    Q3 = df[column].quantile(0.75)\n",
    "    IQR = Q3 - Q1\n",
    "    lowlimit = Q1 - 1.5*IQR\n",
    "    uplimit = Q3 + 1.5*IQR\n",
    "    df = df.loc[(df[column] > lowlimit) & (df[column] < uplimit)]\n",
    "    return df\n",
    "\n",
    "df = remove_outliers(df, 'blood_pressure')\n",
    "# An it leaves us with 7394 rows left"
   ]
  },
  {
   "cell_type": "code",
   "execution_count": 15,
   "metadata": {},
   "outputs": [],
   "source": [
    "pd.options.mode.chained_assignment = None\n",
    "# since 'True' is only 1.4%, we will impute the n/a with mode (False)\n",
    "df['family_history'] = df['family_history'].fillna(False)"
   ]
  },
  {
   "cell_type": "code",
   "execution_count": null,
   "metadata": {},
   "outputs": [],
   "source": []
  },
  {
   "cell_type": "code",
   "execution_count": 16,
   "metadata": {},
   "outputs": [],
   "source": [
    "# encode categorical variables to interger 0&1\n",
    "clean_up = {'gender': {'female':0,'non-female':1}, 'blood_test':{'negative':0,'positive':1},\n",
    "            'family_history': {False:0, True:1}, 'GeneC':{'not active':0,'active':1}}\n",
    "df = df.replace(clean_up)"
   ]
  },
  {
   "cell_type": "code",
   "execution_count": 17,
   "metadata": {},
   "outputs": [
    {
     "data": {
      "text/html": [
       "<div>\n",
       "<style scoped>\n",
       "    .dataframe tbody tr th:only-of-type {\n",
       "        vertical-align: middle;\n",
       "    }\n",
       "\n",
       "    .dataframe tbody tr th {\n",
       "        vertical-align: top;\n",
       "    }\n",
       "\n",
       "    .dataframe thead th {\n",
       "        text-align: right;\n",
       "    }\n",
       "</style>\n",
       "<table border=\"1\" class=\"dataframe\">\n",
       "  <thead>\n",
       "    <tr style=\"text-align: right;\">\n",
       "      <th></th>\n",
       "      <th>treatment</th>\n",
       "      <th>age</th>\n",
       "      <th>blood_pressure</th>\n",
       "      <th>gender</th>\n",
       "      <th>blood_test</th>\n",
       "      <th>family_history</th>\n",
       "      <th>TestA</th>\n",
       "      <th>TestB</th>\n",
       "      <th>GeneC</th>\n",
       "      <th>GeneD</th>\n",
       "      <th>GeneE</th>\n",
       "      <th>GeneF</th>\n",
       "    </tr>\n",
       "  </thead>\n",
       "  <tbody>\n",
       "    <tr>\n",
       "      <th>treatment</th>\n",
       "      <td>1.000000</td>\n",
       "      <td>-0.194459</td>\n",
       "      <td>0.111245</td>\n",
       "      <td>-0.457649</td>\n",
       "      <td>-0.028653</td>\n",
       "      <td>0.073524</td>\n",
       "      <td>-0.187443</td>\n",
       "      <td>-0.083160</td>\n",
       "      <td>0.007166</td>\n",
       "      <td>-0.007356</td>\n",
       "      <td>-0.044977</td>\n",
       "      <td>-0.022318</td>\n",
       "    </tr>\n",
       "    <tr>\n",
       "      <th>age</th>\n",
       "      <td>-0.194459</td>\n",
       "      <td>1.000000</td>\n",
       "      <td>0.001373</td>\n",
       "      <td>-0.005466</td>\n",
       "      <td>-0.014071</td>\n",
       "      <td>-0.031792</td>\n",
       "      <td>0.969723</td>\n",
       "      <td>-0.008042</td>\n",
       "      <td>-0.005168</td>\n",
       "      <td>0.004561</td>\n",
       "      <td>0.015189</td>\n",
       "      <td>-0.012345</td>\n",
       "    </tr>\n",
       "    <tr>\n",
       "      <th>blood_pressure</th>\n",
       "      <td>0.111245</td>\n",
       "      <td>0.001373</td>\n",
       "      <td>1.000000</td>\n",
       "      <td>0.002693</td>\n",
       "      <td>0.012265</td>\n",
       "      <td>0.020364</td>\n",
       "      <td>0.000593</td>\n",
       "      <td>0.000598</td>\n",
       "      <td>0.008845</td>\n",
       "      <td>0.007527</td>\n",
       "      <td>-0.000855</td>\n",
       "      <td>-0.000980</td>\n",
       "    </tr>\n",
       "    <tr>\n",
       "      <th>gender</th>\n",
       "      <td>-0.457649</td>\n",
       "      <td>-0.005466</td>\n",
       "      <td>0.002693</td>\n",
       "      <td>1.000000</td>\n",
       "      <td>-0.007949</td>\n",
       "      <td>0.013872</td>\n",
       "      <td>-0.007061</td>\n",
       "      <td>0.003270</td>\n",
       "      <td>-0.006763</td>\n",
       "      <td>-0.011640</td>\n",
       "      <td>-0.010008</td>\n",
       "      <td>-0.007980</td>\n",
       "    </tr>\n",
       "    <tr>\n",
       "      <th>blood_test</th>\n",
       "      <td>-0.028653</td>\n",
       "      <td>-0.014071</td>\n",
       "      <td>0.012265</td>\n",
       "      <td>-0.007949</td>\n",
       "      <td>1.000000</td>\n",
       "      <td>0.000657</td>\n",
       "      <td>-0.013846</td>\n",
       "      <td>0.030955</td>\n",
       "      <td>0.026035</td>\n",
       "      <td>-0.017016</td>\n",
       "      <td>0.008942</td>\n",
       "      <td>-0.005762</td>\n",
       "    </tr>\n",
       "    <tr>\n",
       "      <th>family_history</th>\n",
       "      <td>0.073524</td>\n",
       "      <td>-0.031792</td>\n",
       "      <td>0.020364</td>\n",
       "      <td>0.013872</td>\n",
       "      <td>0.000657</td>\n",
       "      <td>1.000000</td>\n",
       "      <td>-0.029889</td>\n",
       "      <td>-0.003225</td>\n",
       "      <td>0.019578</td>\n",
       "      <td>-0.005362</td>\n",
       "      <td>-0.008615</td>\n",
       "      <td>0.022469</td>\n",
       "    </tr>\n",
       "    <tr>\n",
       "      <th>TestA</th>\n",
       "      <td>-0.187443</td>\n",
       "      <td>0.969723</td>\n",
       "      <td>0.000593</td>\n",
       "      <td>-0.007061</td>\n",
       "      <td>-0.013846</td>\n",
       "      <td>-0.029889</td>\n",
       "      <td>1.000000</td>\n",
       "      <td>-0.005243</td>\n",
       "      <td>-0.003147</td>\n",
       "      <td>0.007472</td>\n",
       "      <td>0.016346</td>\n",
       "      <td>-0.013053</td>\n",
       "    </tr>\n",
       "    <tr>\n",
       "      <th>TestB</th>\n",
       "      <td>-0.083160</td>\n",
       "      <td>-0.008042</td>\n",
       "      <td>0.000598</td>\n",
       "      <td>0.003270</td>\n",
       "      <td>0.030955</td>\n",
       "      <td>-0.003225</td>\n",
       "      <td>-0.005243</td>\n",
       "      <td>1.000000</td>\n",
       "      <td>-0.010860</td>\n",
       "      <td>0.001947</td>\n",
       "      <td>-0.007427</td>\n",
       "      <td>0.003342</td>\n",
       "    </tr>\n",
       "    <tr>\n",
       "      <th>GeneC</th>\n",
       "      <td>0.007166</td>\n",
       "      <td>-0.005168</td>\n",
       "      <td>0.008845</td>\n",
       "      <td>-0.006763</td>\n",
       "      <td>0.026035</td>\n",
       "      <td>0.019578</td>\n",
       "      <td>-0.003147</td>\n",
       "      <td>-0.010860</td>\n",
       "      <td>1.000000</td>\n",
       "      <td>0.007685</td>\n",
       "      <td>-0.001169</td>\n",
       "      <td>0.008423</td>\n",
       "    </tr>\n",
       "    <tr>\n",
       "      <th>GeneD</th>\n",
       "      <td>-0.007356</td>\n",
       "      <td>0.004561</td>\n",
       "      <td>0.007527</td>\n",
       "      <td>-0.011640</td>\n",
       "      <td>-0.017016</td>\n",
       "      <td>-0.005362</td>\n",
       "      <td>0.007472</td>\n",
       "      <td>0.001947</td>\n",
       "      <td>0.007685</td>\n",
       "      <td>1.000000</td>\n",
       "      <td>0.006992</td>\n",
       "      <td>0.011064</td>\n",
       "    </tr>\n",
       "    <tr>\n",
       "      <th>GeneE</th>\n",
       "      <td>-0.044977</td>\n",
       "      <td>0.015189</td>\n",
       "      <td>-0.000855</td>\n",
       "      <td>-0.010008</td>\n",
       "      <td>0.008942</td>\n",
       "      <td>-0.008615</td>\n",
       "      <td>0.016346</td>\n",
       "      <td>-0.007427</td>\n",
       "      <td>-0.001169</td>\n",
       "      <td>0.006992</td>\n",
       "      <td>1.000000</td>\n",
       "      <td>-0.009066</td>\n",
       "    </tr>\n",
       "    <tr>\n",
       "      <th>GeneF</th>\n",
       "      <td>-0.022318</td>\n",
       "      <td>-0.012345</td>\n",
       "      <td>-0.000980</td>\n",
       "      <td>-0.007980</td>\n",
       "      <td>-0.005762</td>\n",
       "      <td>0.022469</td>\n",
       "      <td>-0.013053</td>\n",
       "      <td>0.003342</td>\n",
       "      <td>0.008423</td>\n",
       "      <td>0.011064</td>\n",
       "      <td>-0.009066</td>\n",
       "      <td>1.000000</td>\n",
       "    </tr>\n",
       "  </tbody>\n",
       "</table>\n",
       "</div>"
      ],
      "text/plain": [
       "                treatment       age  blood_pressure    gender  blood_test  \\\n",
       "treatment        1.000000 -0.194459        0.111245 -0.457649   -0.028653   \n",
       "age             -0.194459  1.000000        0.001373 -0.005466   -0.014071   \n",
       "blood_pressure   0.111245  0.001373        1.000000  0.002693    0.012265   \n",
       "gender          -0.457649 -0.005466        0.002693  1.000000   -0.007949   \n",
       "blood_test      -0.028653 -0.014071        0.012265 -0.007949    1.000000   \n",
       "family_history   0.073524 -0.031792        0.020364  0.013872    0.000657   \n",
       "TestA           -0.187443  0.969723        0.000593 -0.007061   -0.013846   \n",
       "TestB           -0.083160 -0.008042        0.000598  0.003270    0.030955   \n",
       "GeneC            0.007166 -0.005168        0.008845 -0.006763    0.026035   \n",
       "GeneD           -0.007356  0.004561        0.007527 -0.011640   -0.017016   \n",
       "GeneE           -0.044977  0.015189       -0.000855 -0.010008    0.008942   \n",
       "GeneF           -0.022318 -0.012345       -0.000980 -0.007980   -0.005762   \n",
       "\n",
       "                family_history     TestA     TestB     GeneC     GeneD  \\\n",
       "treatment             0.073524 -0.187443 -0.083160  0.007166 -0.007356   \n",
       "age                  -0.031792  0.969723 -0.008042 -0.005168  0.004561   \n",
       "blood_pressure        0.020364  0.000593  0.000598  0.008845  0.007527   \n",
       "gender                0.013872 -0.007061  0.003270 -0.006763 -0.011640   \n",
       "blood_test            0.000657 -0.013846  0.030955  0.026035 -0.017016   \n",
       "family_history        1.000000 -0.029889 -0.003225  0.019578 -0.005362   \n",
       "TestA                -0.029889  1.000000 -0.005243 -0.003147  0.007472   \n",
       "TestB                -0.003225 -0.005243  1.000000 -0.010860  0.001947   \n",
       "GeneC                 0.019578 -0.003147 -0.010860  1.000000  0.007685   \n",
       "GeneD                -0.005362  0.007472  0.001947  0.007685  1.000000   \n",
       "GeneE                -0.008615  0.016346 -0.007427 -0.001169  0.006992   \n",
       "GeneF                 0.022469 -0.013053  0.003342  0.008423  0.011064   \n",
       "\n",
       "                   GeneE     GeneF  \n",
       "treatment      -0.044977 -0.022318  \n",
       "age             0.015189 -0.012345  \n",
       "blood_pressure -0.000855 -0.000980  \n",
       "gender         -0.010008 -0.007980  \n",
       "blood_test      0.008942 -0.005762  \n",
       "family_history -0.008615  0.022469  \n",
       "TestA           0.016346 -0.013053  \n",
       "TestB          -0.007427  0.003342  \n",
       "GeneC          -0.001169  0.008423  \n",
       "GeneD           0.006992  0.011064  \n",
       "GeneE           1.000000 -0.009066  \n",
       "GeneF          -0.009066  1.000000  "
      ]
     },
     "execution_count": 17,
     "metadata": {},
     "output_type": "execute_result"
    }
   ],
   "source": [
    "# now lets look at the statistical significance of attribute A to F regarding treatment\n",
    "df.corr()"
   ]
  },
  {
   "cell_type": "code",
   "execution_count": 18,
   "metadata": {},
   "outputs": [
    {
     "name": "stdout",
     "output_type": "stream",
     "text": [
      "Correlation and P-value for TestA: (-0.1874431195498248, 1.9124231839474813e-59)\n",
      "Correlation and P-value for TestB: (-0.08316009862585437, 7.950839141281101e-13)\n",
      "Correlation and P-value for GeneC: (0.007166068964546393, 0.5378269853271901)\n",
      "Correlation and P-value for GeneD: (-0.007355566967096191, 0.5271289032165436)\n",
      "Correlation and P-value for GeneE: (-0.044976611486748114, 0.00010938602989472011)\n",
      "Correlation and P-value for GeneF: (-0.02231777293433616, 0.0549864244367583)\n",
      "\n",
      "We can see that TestA, TestB, GeneE has significant p-value (<0.05)\n"
     ]
    }
   ],
   "source": [
    "# getting p-values to check statistical significance\n",
    "\n",
    "corrf1 = stats.pearsonr(df.treatment,df.TestA)\n",
    "print('Correlation and P-value for TestA:',corrf1)\n",
    "corrf2 = stats.pearsonr(df.treatment,df.TestB)\n",
    "print('Correlation and P-value for TestB:',corrf2)\n",
    "corrf3 = stats.pearsonr(df.treatment,df.GeneC)\n",
    "print('Correlation and P-value for GeneC:',corrf3)\n",
    "corrf4 = stats.pearsonr(df.treatment,df.GeneD)\n",
    "print('Correlation and P-value for GeneD:',corrf4)\n",
    "corrf5 = stats.pearsonr(df.treatment,df.GeneE)\n",
    "print('Correlation and P-value for GeneE:',corrf5)\n",
    "corrf6 = stats.pearsonr(df.treatment,df.GeneF)\n",
    "print('Correlation and P-value for GeneF:',corrf6)\n",
    "print('\\nWe can see that TestA, TestB, GeneE has significant p-value (<0.05)')"
   ]
  },
  {
   "cell_type": "code",
   "execution_count": null,
   "metadata": {},
   "outputs": [],
   "source": []
  },
  {
   "cell_type": "code",
   "execution_count": 19,
   "metadata": {},
   "outputs": [
    {
     "data": {
      "image/png": "[encoded data removed]",
      "text/plain": [
       "<Figure size 720x576 with 2 Axes>"
      ]
     },
     "metadata": {
      "needs_background": "light"
     },
     "output_type": "display_data"
    }
   ],
   "source": [
    "# now we will start selecting features to include in the model\n",
    "# to better understand correlation among variables, we can plot a heatmap\n",
    "fig=sns.heatmap(df[['treatment', 'age', 'blood_pressure', 'gender', 'blood_test','family_history',\n",
    "                    'TestA', 'TestB', 'GeneE']].corr(), annot=True,cmap='RdYlGn',linewidths=0.2,annot_kws={'size':10})\n",
    "fig=plt.gcf()\n",
    "fig.set_size_inches(10,8)\n",
    "plt.xticks(fontsize=12)\n",
    "plt.yticks(fontsize=12)\n",
    "plt.show()\n",
    "# we noticed a high correlation between age&TestA, age&treatment, gender&treatment"
   ]
  },
  {
   "cell_type": "code",
   "execution_count": 20,
   "metadata": {},
   "outputs": [
    {
     "name": "stdout",
     "output_type": "stream",
     "text": [
      "             vars        vif\n",
      "0             age  87.382353\n",
      "1  blood_pressure  62.426956\n",
      "2          gender   1.612646\n",
      "3      blood_test   1.094500\n",
      "4  family_history   1.011567\n",
      "5           TestA   5.232337\n",
      "6           TestB   1.001116\n",
      "7           GeneE   2.226505\n",
      "8           GeneF   2.228182\n"
     ]
    }
   ],
   "source": [
    "Xvif = df[['age', 'blood_pressure', 'gender', 'blood_test','family_history',\n",
    "           'TestA','TestB','GeneE','GeneF']] \n",
    "vifs = pd.DataFrame() \n",
    "vifs['vars'] = Xvif.columns \n",
    "  \n",
    "# calculating VIF for each variable \n",
    "vifs['vif'] = [variance_inflation_factor(Xvif.values, i) \n",
    "                          for i in range(len(Xvif.columns))]   \n",
    "print(vifs)\n",
    "# Both age&blood pressure has high vif, but removing them might weaken the predictoin model"
   ]
  },
  {
   "cell_type": "code",
   "execution_count": null,
   "metadata": {},
   "outputs": [],
   "source": []
  },
  {
   "cell_type": "code",
   "execution_count": 30,
   "metadata": {},
   "outputs": [
    {
     "name": "stdout",
     "output_type": "stream",
     "text": [
      "(5915, 11) (1479, 11)\n"
     ]
    }
   ],
   "source": [
    "# now we split the data into train/test sets\n",
    "train_ratio = 0.80\n",
    "test_ratio = 0.20\n",
    "\n",
    "cols = ['age','blood_pressure', 'gender', 'blood_test','family_history',\n",
    "        'TestA','TestB','GeneC','GeneD','GeneE','GeneF']\n",
    "dataX = df[cols]\n",
    "dataY = df['treatment']\n",
    "x_train, x_test, y_train, y_test = train_test_split(dataX, dataY, train_size=train_ratio, test_size=test_ratio,random_state=1)\n",
    "\n",
    "print(x_train.shape, x_test.shape)"
   ]
  },
  {
   "cell_type": "code",
   "execution_count": null,
   "metadata": {},
   "outputs": [],
   "source": []
  },
  {
   "cell_type": "code",
   "execution_count": 31,
   "metadata": {},
   "outputs": [
    {
     "data": {
      "text/html": [
       "<div>\n",
       "<style scoped>\n",
       "    .dataframe tbody tr th:only-of-type {\n",
       "        vertical-align: middle;\n",
       "    }\n",
       "\n",
       "    .dataframe tbody tr th {\n",
       "        vertical-align: top;\n",
       "    }\n",
       "\n",
       "    .dataframe thead th {\n",
       "        text-align: right;\n",
       "    }\n",
       "</style>\n",
       "<table border=\"1\" class=\"dataframe\">\n",
       "  <thead>\n",
       "    <tr style=\"text-align: right;\">\n",
       "      <th></th>\n",
       "      <th>age</th>\n",
       "      <th>blood_pressure</th>\n",
       "      <th>gender</th>\n",
       "      <th>blood_test</th>\n",
       "      <th>family_history</th>\n",
       "      <th>TestA</th>\n",
       "      <th>TestB</th>\n",
       "      <th>GeneC</th>\n",
       "      <th>GeneD</th>\n",
       "      <th>GeneE</th>\n",
       "      <th>GeneF</th>\n",
       "    </tr>\n",
       "  </thead>\n",
       "  <tbody>\n",
       "    <tr>\n",
       "      <th>6546</th>\n",
       "      <td>0.372881</td>\n",
       "      <td>0.629114</td>\n",
       "      <td>1</td>\n",
       "      <td>0</td>\n",
       "      <td>0</td>\n",
       "      <td>0.352785</td>\n",
       "      <td>0.300960</td>\n",
       "      <td>1</td>\n",
       "      <td>1</td>\n",
       "      <td>0</td>\n",
       "      <td>0</td>\n",
       "    </tr>\n",
       "    <tr>\n",
       "      <th>613</th>\n",
       "      <td>0.610169</td>\n",
       "      <td>0.397067</td>\n",
       "      <td>0</td>\n",
       "      <td>0</td>\n",
       "      <td>0</td>\n",
       "      <td>0.562991</td>\n",
       "      <td>0.218910</td>\n",
       "      <td>1</td>\n",
       "      <td>1</td>\n",
       "      <td>0</td>\n",
       "      <td>0</td>\n",
       "    </tr>\n",
       "    <tr>\n",
       "      <th>216</th>\n",
       "      <td>0.644068</td>\n",
       "      <td>0.657820</td>\n",
       "      <td>0</td>\n",
       "      <td>1</td>\n",
       "      <td>0</td>\n",
       "      <td>0.646093</td>\n",
       "      <td>0.510788</td>\n",
       "      <td>1</td>\n",
       "      <td>1</td>\n",
       "      <td>0</td>\n",
       "      <td>0</td>\n",
       "    </tr>\n",
       "    <tr>\n",
       "      <th>5874</th>\n",
       "      <td>0.576271</td>\n",
       "      <td>0.241607</td>\n",
       "      <td>1</td>\n",
       "      <td>0</td>\n",
       "      <td>0</td>\n",
       "      <td>0.533020</td>\n",
       "      <td>0.487568</td>\n",
       "      <td>1</td>\n",
       "      <td>1</td>\n",
       "      <td>1</td>\n",
       "      <td>0</td>\n",
       "    </tr>\n",
       "    <tr>\n",
       "      <th>5727</th>\n",
       "      <td>0.559322</td>\n",
       "      <td>0.666356</td>\n",
       "      <td>0</td>\n",
       "      <td>0</td>\n",
       "      <td>0</td>\n",
       "      <td>0.578902</td>\n",
       "      <td>0.440819</td>\n",
       "      <td>0</td>\n",
       "      <td>0</td>\n",
       "      <td>0</td>\n",
       "      <td>1</td>\n",
       "    </tr>\n",
       "  </tbody>\n",
       "</table>\n",
       "</div>"
      ],
      "text/plain": [
       "           age  blood_pressure  gender  blood_test  family_history     TestA  \\\n",
       "6546  0.372881        0.629114       1           0               0  0.352785   \n",
       "613   0.610169        0.397067       0           0               0  0.562991   \n",
       "216   0.644068        0.657820       0           1               0  0.646093   \n",
       "5874  0.576271        0.241607       1           0               0  0.533020   \n",
       "5727  0.559322        0.666356       0           0               0  0.578902   \n",
       "\n",
       "         TestB  GeneC  GeneD  GeneE  GeneF  \n",
       "6546  0.300960      1      1      0      0  \n",
       "613   0.218910      1      1      0      0  \n",
       "216   0.510788      1      1      0      0  \n",
       "5874  0.487568      1      1      1      0  \n",
       "5727  0.440819      0      0      0      1  "
      ]
     },
     "execution_count": 31,
     "metadata": {},
     "output_type": "execute_result"
    }
   ],
   "source": [
    "# After splitting the data, apply scaler to certain variables (on both train&test)\n",
    "scaler = MinMaxScaler()\n",
    "num_vars = ['age','blood_pressure','TestA','TestB']\n",
    "x_train[num_vars] = scaler.fit_transform(x_train[num_vars])\n",
    "x_test[num_vars] = scaler.fit_transform(x_test[num_vars])\n",
    "x_train.head()"
   ]
  },
  {
   "cell_type": "code",
   "execution_count": null,
   "metadata": {},
   "outputs": [],
   "source": []
  },
  {
   "cell_type": "code",
   "execution_count": 32,
   "metadata": {},
   "outputs": [],
   "source": [
    "# start RFE feature selection"
   ]
  },
  {
   "cell_type": "code",
   "execution_count": 35,
   "metadata": {},
   "outputs": [
    {
     "name": "stdout",
     "output_type": "stream",
     "text": [
      "Selected features: ['age', 'blood_pressure', 'gender', 'family_history', 'TestA', 'TestB']\n"
     ]
    },
    {
     "name": "stderr",
     "output_type": "stream",
     "text": [
      "/Users/linyingxi/opt/anaconda3/lib/python3.8/site-packages/sklearn/utils/validation.py:68: FutureWarning: Pass n_features_to_select=6 as keyword args. From version 0.25 passing these as positional arguments will result in an error\n",
      "  warnings.warn(\"Pass {} as keyword args. From version 0.25 \"\n"
     ]
    }
   ],
   "source": [
    "X = x_train[cols]\n",
    "y = y_train\n",
    "# Build a logreg and compute the feature importances\n",
    "model = linear_model.LogisticRegression()\n",
    "# create the RFE model and select 4/6/10 attributes\n",
    "rfe = RFE(model, 6)\n",
    "rfe = rfe.fit(X, y)\n",
    "# summarize the selection of the attributes\n",
    "print('Selected features: %s' % list(X.columns[rfe.support_]))"
   ]
  },
  {
   "cell_type": "code",
   "execution_count": 25,
   "metadata": {},
   "outputs": [
    {
     "name": "stdout",
     "output_type": "stream",
     "text": [
      "Optimal number of features: 10\n",
      "Selected features: ['age', 'blood_pressure', 'gender', 'blood_test', 'family_history', 'TestA', 'TestB', 'GeneD', 'GeneE', 'GeneF']\n"
     ]
    },
    {
     "data": {
      "image/png": "[encoded data removed]",
      "text/plain": [
       "<Figure size 360x216 with 1 Axes>"
      ]
     },
     "metadata": {
      "needs_background": "light"
     },
     "output_type": "display_data"
    }
   ],
   "source": [
    "# Create the RFE object and compute a cross-validated score.\n",
    "# The accuracy scoring is proportional to the number of correct classifications\n",
    "rfecv = RFECV(estimator=linear_model.LogisticRegression(), cv=5, scoring='neg_root_mean_squared_error')\n",
    "rfecv.fit(X, y)\n",
    "\n",
    "print('Optimal number of features: %d' % rfecv.n_features_)\n",
    "print('Selected features: %s' % list(X.columns[rfecv.support_]))\n",
    "\n",
    "# Plot number of features VS. cross-validation scores\n",
    "plt.figure(figsize=(5,3))\n",
    "plt.xlabel(\"Number of features selected\")\n",
    "plt.ylabel(\"RMSE score\")\n",
    "plt.plot(range(1, len(rfecv.grid_scores_) + 1), rfecv.grid_scores_)\n",
    "plt.show()"
   ]
  },
  {
   "cell_type": "code",
   "execution_count": 26,
   "metadata": {},
   "outputs": [
    {
     "data": {
      "text/html": [
       "<div>\n",
       "<style scoped>\n",
       "    .dataframe tbody tr th:only-of-type {\n",
       "        vertical-align: middle;\n",
       "    }\n",
       "\n",
       "    .dataframe tbody tr th {\n",
       "        vertical-align: top;\n",
       "    }\n",
       "\n",
       "    .dataframe thead th {\n",
       "        text-align: right;\n",
       "    }\n",
       "</style>\n",
       "<table border=\"1\" class=\"dataframe\">\n",
       "  <thead>\n",
       "    <tr style=\"text-align: right;\">\n",
       "      <th></th>\n",
       "      <th>age</th>\n",
       "      <th>blood_pressure</th>\n",
       "      <th>gender</th>\n",
       "      <th>blood_test</th>\n",
       "      <th>family_history</th>\n",
       "      <th>TestA</th>\n",
       "      <th>TestB</th>\n",
       "      <th>GeneD</th>\n",
       "      <th>GeneE</th>\n",
       "      <th>GeneF</th>\n",
       "    </tr>\n",
       "  </thead>\n",
       "  <tbody>\n",
       "    <tr>\n",
       "      <th>6546</th>\n",
       "      <td>0.372881</td>\n",
       "      <td>0.629114</td>\n",
       "      <td>1</td>\n",
       "      <td>0</td>\n",
       "      <td>0</td>\n",
       "      <td>0.352785</td>\n",
       "      <td>0.300960</td>\n",
       "      <td>1</td>\n",
       "      <td>0</td>\n",
       "      <td>0</td>\n",
       "    </tr>\n",
       "    <tr>\n",
       "      <th>613</th>\n",
       "      <td>0.610169</td>\n",
       "      <td>0.397067</td>\n",
       "      <td>0</td>\n",
       "      <td>0</td>\n",
       "      <td>0</td>\n",
       "      <td>0.562991</td>\n",
       "      <td>0.218910</td>\n",
       "      <td>1</td>\n",
       "      <td>0</td>\n",
       "      <td>0</td>\n",
       "    </tr>\n",
       "    <tr>\n",
       "      <th>216</th>\n",
       "      <td>0.644068</td>\n",
       "      <td>0.657820</td>\n",
       "      <td>0</td>\n",
       "      <td>1</td>\n",
       "      <td>0</td>\n",
       "      <td>0.646093</td>\n",
       "      <td>0.510788</td>\n",
       "      <td>1</td>\n",
       "      <td>0</td>\n",
       "      <td>0</td>\n",
       "    </tr>\n",
       "    <tr>\n",
       "      <th>5874</th>\n",
       "      <td>0.576271</td>\n",
       "      <td>0.241607</td>\n",
       "      <td>1</td>\n",
       "      <td>0</td>\n",
       "      <td>0</td>\n",
       "      <td>0.533020</td>\n",
       "      <td>0.487568</td>\n",
       "      <td>1</td>\n",
       "      <td>1</td>\n",
       "      <td>0</td>\n",
       "    </tr>\n",
       "    <tr>\n",
       "      <th>5727</th>\n",
       "      <td>0.559322</td>\n",
       "      <td>0.666356</td>\n",
       "      <td>0</td>\n",
       "      <td>0</td>\n",
       "      <td>0</td>\n",
       "      <td>0.578902</td>\n",
       "      <td>0.440819</td>\n",
       "      <td>0</td>\n",
       "      <td>0</td>\n",
       "      <td>1</td>\n",
       "    </tr>\n",
       "  </tbody>\n",
       "</table>\n",
       "</div>"
      ],
      "text/plain": [
       "           age  blood_pressure  gender  blood_test  family_history     TestA  \\\n",
       "6546  0.372881        0.629114       1           0               0  0.352785   \n",
       "613   0.610169        0.397067       0           0               0  0.562991   \n",
       "216   0.644068        0.657820       0           1               0  0.646093   \n",
       "5874  0.576271        0.241607       1           0               0  0.533020   \n",
       "5727  0.559322        0.666356       0           0               0  0.578902   \n",
       "\n",
       "         TestB  GeneD  GeneE  GeneF  \n",
       "6546  0.300960      1      0      0  \n",
       "613   0.218910      1      0      0  \n",
       "216   0.510788      1      0      0  \n",
       "5874  0.487568      1      1      0  \n",
       "5727  0.440819      0      0      1  "
      ]
     },
     "execution_count": 26,
     "metadata": {},
     "output_type": "execute_result"
    }
   ],
   "source": [
    "# dropping GeneC as a feature\n",
    "x_train = x_train.drop('GeneC', 1)\n",
    "x_test = x_test.drop('GeneC', 1)\n",
    "x_train.head()"
   ]
  },
  {
   "cell_type": "code",
   "execution_count": 29,
   "metadata": {},
   "outputs": [
    {
     "name": "stdout",
     "output_type": "stream",
     "text": [
      "Accuracy: 0.7200811359026369\n",
      "Average precision score: 0.6792901668149708\n",
      "f1 score: 0.7642369020501139\n",
      "AUC score: 0.7089722696418761\n",
      "R-squared: -0.12880366051050984\n",
      "Coefficients: [[-2.58871272  1.39774848 -2.29402451 -0.30867135  2.37672151 -1.31961762\n",
      "  -1.43839292 -0.08526454 -0.2271194  -0.19201515]]\n"
     ]
    }
   ],
   "source": [
    "# build and evaluate model\n",
    "loreg = linear_model.LogisticRegression()\n",
    "loreg.fit(x_train,y_train)\n",
    "y_pred=loreg.predict(x_test)\n",
    "\n",
    "accuracy = metrics.accuracy_score(y_test,y_pred)\n",
    "ave_precision = metrics.average_precision_score(y_test,y_pred)\n",
    "f1 = metrics.f1_score(y_test,y_pred)\n",
    "auc = metrics.roc_auc_score(y_test,y_pred)\n",
    "r2 = metrics.r2_score(y_test,y_pred)\n",
    "\n",
    "print('Accuracy:',accuracy)\n",
    "print('Average precision score:',ave_precision)\n",
    "print('f1 score:',f1)\n",
    "print('AUC score:',auc)\n",
    "print('R-squared:',r2)\n",
    "print('Coefficients:',loreg.coef_)"
   ]
  },
  {
   "cell_type": "code",
   "execution_count": 28,
   "metadata": {},
   "outputs": [
    {
     "name": "stdout",
     "output_type": "stream",
     "text": [
      "False Positive ratio = 0.4145616641901932\n",
      "False Negative ratio = 0.1674937965260546\n"
     ]
    },
    {
     "data": {
      "image/png": "[encoded data removed]",
      "text/plain": [
       "<Figure size 432x288 with 2 Axes>"
      ]
     },
     "metadata": {
      "needs_background": "light"
     },
     "output_type": "display_data"
    }
   ],
   "source": [
    "# now let's plot a confusion matrix to look at more measures\n",
    "from sklearn.metrics import confusion_matrix\n",
    "cm=confusion_matrix(y_test,y_pred)\n",
    "conf_matrix=pd.DataFrame(data=cm,columns=['Predicted:0','Predicted:1'],index=['Actual:0','Actual:1'])\n",
    "plt.figure(figsize = (6,4))\n",
    "sns.heatmap(conf_matrix, annot=True,fmt='d',cmap='YlGnBu')\n",
    "TN=cm[0,0]\n",
    "TP=cm[1,1]\n",
    "FN=cm[1,0]\n",
    "FP=cm[0,1]\n",
    "print('False Positive ratio =',FP/float(TN+FP))\n",
    "print('False Negative ratio =',FN/float(TP+FN))"
   ]
  },
  {
   "cell_type": "code",
   "execution_count": null,
   "metadata": {},
   "outputs": [],
   "source": []
  }
 ],
 "metadata": {
  "kernelspec": {
   "display_name": "Python 3",
   "language": "python",
   "name": "python3"
  },
  "language_info": {
   "codemirror_mode": {
    "name": "ipython",
    "version": 3
   },
   "file_extension": ".py",
   "mimetype": "text/x-python",
   "name": "python",
   "nbconvert_exporter": "python",
   "pygments_lexer": "ipython3",
   "version": "3.8.3"
  }
 },
 "nbformat": 4,
 "nbformat_minor": 4
}
